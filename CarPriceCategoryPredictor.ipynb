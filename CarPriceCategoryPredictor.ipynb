{
 "cells": [
  {
   "cell_type": "markdown",
   "metadata": {},
   "source": [
    "# Car price category predictor\n",
    "\n",
    "I am using a car ad dataset from 2015 from Ebay marketplace.\n",
    "\n",
    "The dataset has 11 fields and is used for categorization.\n",
    "\n",
    "The price field is anywhere between 1 and 13. The numbers represent as following:\n",
    "1 - price < 2000\n",
    "2 - price < 3000\n",
    "3 - price < 4000\n",
    "4 - price < 5000\n",
    "5 - price < 10000\n",
    "6 - price < 15000\n",
    "7 - price < 20000\n",
    "8 - price < 25000\n",
    "9 - price < 30000\n",
    "10 - price < 40000\n",
    "11 - price < 45000\n",
    "12 - price < 50000\n",
    "13 - price >= 50000"
   ]
  },
  {
   "cell_type": "code",
   "execution_count": 1,
   "metadata": {},
   "outputs": [],
   "source": [
    "import pandas as pd\n",
    "import pickle\n",
    "import seaborn as sns\n",
    "import matplotlib.pyplot as plt\n",
    "from sklearn import preprocessing\n",
    "from sklearn.model_selection import train_test_split\n",
    "from sklearn.naive_bayes import GaussianNB\n",
    "from sklearn.metrics import accuracy_score\n",
    "from sklearn.neighbors import KNeighborsClassifier"
   ]
  },
  {
   "cell_type": "markdown",
   "metadata": {},
   "source": [
    "Let's import the data"
   ]
  },
  {
   "cell_type": "code",
   "execution_count": 2,
   "metadata": {},
   "outputs": [],
   "source": [
    "cars = pd.read_csv('./datasets/cars.csv', index_col=None)"
   ]
  },
  {
   "cell_type": "markdown",
   "metadata": {},
   "source": [
    "Let's see what the first ten rows look like to get a better understaning"
   ]
  },
  {
   "cell_type": "code",
   "execution_count": 3,
   "metadata": {},
   "outputs": [
    {
     "data": {
      "text/html": [
       "<div>\n",
       "<style scoped>\n",
       "    .dataframe tbody tr th:only-of-type {\n",
       "        vertical-align: middle;\n",
       "    }\n",
       "\n",
       "    .dataframe tbody tr th {\n",
       "        vertical-align: top;\n",
       "    }\n",
       "\n",
       "    .dataframe thead th {\n",
       "        text-align: right;\n",
       "    }\n",
       "</style>\n",
       "<table border=\"1\" class=\"dataframe\">\n",
       "  <thead>\n",
       "    <tr style=\"text-align: right;\">\n",
       "      <th></th>\n",
       "      <th>id</th>\n",
       "      <th>maker</th>\n",
       "      <th>mileage</th>\n",
       "      <th>manufacture_year</th>\n",
       "      <th>engine_displacement</th>\n",
       "      <th>engine_power</th>\n",
       "      <th>transmission</th>\n",
       "      <th>door_count</th>\n",
       "      <th>seat_count</th>\n",
       "      <th>fuel_type</th>\n",
       "      <th>price_eur</th>\n",
       "    </tr>\n",
       "  </thead>\n",
       "  <tbody>\n",
       "    <tr>\n",
       "      <th>0</th>\n",
       "      <td>0</td>\n",
       "      <td>ford</td>\n",
       "      <td>151000</td>\n",
       "      <td>2011</td>\n",
       "      <td>2000</td>\n",
       "      <td>103</td>\n",
       "      <td>man</td>\n",
       "      <td>5</td>\n",
       "      <td>7</td>\n",
       "      <td>diesel</td>\n",
       "      <td>6</td>\n",
       "    </tr>\n",
       "    <tr>\n",
       "      <th>1</th>\n",
       "      <td>1</td>\n",
       "      <td>skoda</td>\n",
       "      <td>143476</td>\n",
       "      <td>2012</td>\n",
       "      <td>2000</td>\n",
       "      <td>81</td>\n",
       "      <td>man</td>\n",
       "      <td>5</td>\n",
       "      <td>5</td>\n",
       "      <td>diesel</td>\n",
       "      <td>5</td>\n",
       "    </tr>\n",
       "    <tr>\n",
       "      <th>2</th>\n",
       "      <td>2</td>\n",
       "      <td>bmw</td>\n",
       "      <td>97676</td>\n",
       "      <td>2010</td>\n",
       "      <td>1995</td>\n",
       "      <td>85</td>\n",
       "      <td>man</td>\n",
       "      <td>5</td>\n",
       "      <td>5</td>\n",
       "      <td>diesel</td>\n",
       "      <td>6</td>\n",
       "    </tr>\n",
       "    <tr>\n",
       "      <th>3</th>\n",
       "      <td>3</td>\n",
       "      <td>skoda</td>\n",
       "      <td>111970</td>\n",
       "      <td>2004</td>\n",
       "      <td>1200</td>\n",
       "      <td>47</td>\n",
       "      <td>man</td>\n",
       "      <td>5</td>\n",
       "      <td>5</td>\n",
       "      <td>gasoline</td>\n",
       "      <td>2</td>\n",
       "    </tr>\n",
       "    <tr>\n",
       "      <th>4</th>\n",
       "      <td>4</td>\n",
       "      <td>skoda</td>\n",
       "      <td>128886</td>\n",
       "      <td>2004</td>\n",
       "      <td>1200</td>\n",
       "      <td>47</td>\n",
       "      <td>man</td>\n",
       "      <td>5</td>\n",
       "      <td>5</td>\n",
       "      <td>gasoline</td>\n",
       "      <td>2</td>\n",
       "    </tr>\n",
       "    <tr>\n",
       "      <th>5</th>\n",
       "      <td>5</td>\n",
       "      <td>skoda</td>\n",
       "      <td>140932</td>\n",
       "      <td>2003</td>\n",
       "      <td>1200</td>\n",
       "      <td>40</td>\n",
       "      <td>man</td>\n",
       "      <td>5</td>\n",
       "      <td>5</td>\n",
       "      <td>gasoline</td>\n",
       "      <td>1</td>\n",
       "    </tr>\n",
       "    <tr>\n",
       "      <th>6</th>\n",
       "      <td>6</td>\n",
       "      <td>skoda</td>\n",
       "      <td>167220</td>\n",
       "      <td>2001</td>\n",
       "      <td>1400</td>\n",
       "      <td>74</td>\n",
       "      <td>man</td>\n",
       "      <td>5</td>\n",
       "      <td>5</td>\n",
       "      <td>gasoline</td>\n",
       "      <td>2</td>\n",
       "    </tr>\n",
       "    <tr>\n",
       "      <th>7</th>\n",
       "      <td>7</td>\n",
       "      <td>bmw</td>\n",
       "      <td>148500</td>\n",
       "      <td>2009</td>\n",
       "      <td>2000</td>\n",
       "      <td>130</td>\n",
       "      <td>auto</td>\n",
       "      <td>5</td>\n",
       "      <td>5</td>\n",
       "      <td>diesel</td>\n",
       "      <td>6</td>\n",
       "    </tr>\n",
       "    <tr>\n",
       "      <th>8</th>\n",
       "      <td>8</td>\n",
       "      <td>skoda</td>\n",
       "      <td>105389</td>\n",
       "      <td>2003</td>\n",
       "      <td>1900</td>\n",
       "      <td>81</td>\n",
       "      <td>man</td>\n",
       "      <td>5</td>\n",
       "      <td>5</td>\n",
       "      <td>diesel</td>\n",
       "      <td>4</td>\n",
       "    </tr>\n",
       "    <tr>\n",
       "      <th>9</th>\n",
       "      <td>9</td>\n",
       "      <td>skoda</td>\n",
       "      <td>41250</td>\n",
       "      <td>1990</td>\n",
       "      <td>1300</td>\n",
       "      <td>44</td>\n",
       "      <td>man</td>\n",
       "      <td>5</td>\n",
       "      <td>5</td>\n",
       "      <td>gasoline</td>\n",
       "      <td>1</td>\n",
       "    </tr>\n",
       "  </tbody>\n",
       "</table>\n",
       "</div>"
      ],
      "text/plain": [
       "   id  maker  mileage  manufacture_year  engine_displacement  engine_power  \\\n",
       "0   0   ford   151000              2011                 2000           103   \n",
       "1   1  skoda   143476              2012                 2000            81   \n",
       "2   2    bmw    97676              2010                 1995            85   \n",
       "3   3  skoda   111970              2004                 1200            47   \n",
       "4   4  skoda   128886              2004                 1200            47   \n",
       "5   5  skoda   140932              2003                 1200            40   \n",
       "6   6  skoda   167220              2001                 1400            74   \n",
       "7   7    bmw   148500              2009                 2000           130   \n",
       "8   8  skoda   105389              2003                 1900            81   \n",
       "9   9  skoda    41250              1990                 1300            44   \n",
       "\n",
       "  transmission  door_count  seat_count fuel_type  price_eur  \n",
       "0          man           5           7    diesel          6  \n",
       "1          man           5           5    diesel          5  \n",
       "2          man           5           5    diesel          6  \n",
       "3          man           5           5  gasoline          2  \n",
       "4          man           5           5  gasoline          2  \n",
       "5          man           5           5  gasoline          1  \n",
       "6          man           5           5  gasoline          2  \n",
       "7         auto           5           5    diesel          6  \n",
       "8          man           5           5    diesel          4  \n",
       "9          man           5           5  gasoline          1  "
      ]
     },
     "execution_count": 3,
     "metadata": {},
     "output_type": "execute_result"
    }
   ],
   "source": [
    "cars.head(n=10)"
   ]
  },
  {
   "cell_type": "code",
   "execution_count": 4,
   "metadata": {},
   "outputs": [
    {
     "data": {
      "text/plain": [
       "(607868, 11)"
      ]
     },
     "execution_count": 4,
     "metadata": {},
     "output_type": "execute_result"
    }
   ],
   "source": [
    "cars.shape"
   ]
  },
  {
   "cell_type": "code",
   "execution_count": 5,
   "metadata": {},
   "outputs": [
    {
     "data": {
      "text/plain": [
       "id                      int64\n",
       "maker                  object\n",
       "mileage                 int64\n",
       "manufacture_year        int64\n",
       "engine_displacement     int64\n",
       "engine_power            int64\n",
       "transmission           object\n",
       "door_count              int64\n",
       "seat_count              int64\n",
       "fuel_type              object\n",
       "price_eur               int64\n",
       "dtype: object"
      ]
     },
     "execution_count": 5,
     "metadata": {},
     "output_type": "execute_result"
    }
   ],
   "source": [
    "cars.dtypes"
   ]
  },
  {
   "cell_type": "markdown",
   "metadata": {},
   "source": [
    "We can see that the majority of the fields are of type int, however we still have some str fields(named object here). We will have to encode those later because the machine learning algorithms use numeric data."
   ]
  },
  {
   "cell_type": "markdown",
   "metadata": {},
   "source": [
    "Lets see what type of data we have"
   ]
  },
  {
   "cell_type": "code",
   "execution_count": 6,
   "metadata": {},
   "outputs": [
    {
     "data": {
      "text/html": [
       "<div>\n",
       "<style scoped>\n",
       "    .dataframe tbody tr th:only-of-type {\n",
       "        vertical-align: middle;\n",
       "    }\n",
       "\n",
       "    .dataframe tbody tr th {\n",
       "        vertical-align: top;\n",
       "    }\n",
       "\n",
       "    .dataframe thead th {\n",
       "        text-align: right;\n",
       "    }\n",
       "</style>\n",
       "<table border=\"1\" class=\"dataframe\">\n",
       "  <thead>\n",
       "    <tr style=\"text-align: right;\">\n",
       "      <th></th>\n",
       "      <th>id</th>\n",
       "      <th>mileage</th>\n",
       "      <th>manufacture_year</th>\n",
       "      <th>engine_displacement</th>\n",
       "      <th>engine_power</th>\n",
       "      <th>door_count</th>\n",
       "      <th>seat_count</th>\n",
       "      <th>price_eur</th>\n",
       "    </tr>\n",
       "  </thead>\n",
       "  <tbody>\n",
       "    <tr>\n",
       "      <th>count</th>\n",
       "      <td>607868.000000</td>\n",
       "      <td>6.078680e+05</td>\n",
       "      <td>607868.000000</td>\n",
       "      <td>607868.000000</td>\n",
       "      <td>607868.000000</td>\n",
       "      <td>607868.000000</td>\n",
       "      <td>607868.000000</td>\n",
       "      <td>607868.000000</td>\n",
       "    </tr>\n",
       "    <tr>\n",
       "      <th>mean</th>\n",
       "      <td>303933.500000</td>\n",
       "      <td>1.042676e+05</td>\n",
       "      <td>2008.692004</td>\n",
       "      <td>1922.358486</td>\n",
       "      <td>105.041129</td>\n",
       "      <td>3.927341</td>\n",
       "      <td>4.888915</td>\n",
       "      <td>4.959443</td>\n",
       "    </tr>\n",
       "    <tr>\n",
       "      <th>std</th>\n",
       "      <td>175476.521053</td>\n",
       "      <td>1.000725e+05</td>\n",
       "      <td>6.410434</td>\n",
       "      <td>741.868944</td>\n",
       "      <td>52.542237</td>\n",
       "      <td>0.923465</td>\n",
       "      <td>0.841588</td>\n",
       "      <td>3.063327</td>\n",
       "    </tr>\n",
       "    <tr>\n",
       "      <th>min</th>\n",
       "      <td>0.000000</td>\n",
       "      <td>0.000000e+00</td>\n",
       "      <td>0.000000</td>\n",
       "      <td>10.000000</td>\n",
       "      <td>10.000000</td>\n",
       "      <td>1.000000</td>\n",
       "      <td>1.000000</td>\n",
       "      <td>1.000000</td>\n",
       "    </tr>\n",
       "    <tr>\n",
       "      <th>25%</th>\n",
       "      <td>151966.750000</td>\n",
       "      <td>2.830000e+04</td>\n",
       "      <td>2005.000000</td>\n",
       "      <td>1461.000000</td>\n",
       "      <td>74.000000</td>\n",
       "      <td>4.000000</td>\n",
       "      <td>5.000000</td>\n",
       "      <td>2.000000</td>\n",
       "    </tr>\n",
       "    <tr>\n",
       "      <th>50%</th>\n",
       "      <td>303933.500000</td>\n",
       "      <td>9.500000e+04</td>\n",
       "      <td>2010.000000</td>\n",
       "      <td>1896.000000</td>\n",
       "      <td>95.000000</td>\n",
       "      <td>4.000000</td>\n",
       "      <td>5.000000</td>\n",
       "      <td>5.000000</td>\n",
       "    </tr>\n",
       "    <tr>\n",
       "      <th>75%</th>\n",
       "      <td>455900.250000</td>\n",
       "      <td>1.590000e+05</td>\n",
       "      <td>2013.000000</td>\n",
       "      <td>2000.000000</td>\n",
       "      <td>125.000000</td>\n",
       "      <td>4.000000</td>\n",
       "      <td>5.000000</td>\n",
       "      <td>7.000000</td>\n",
       "    </tr>\n",
       "    <tr>\n",
       "      <th>max</th>\n",
       "      <td>607867.000000</td>\n",
       "      <td>9.999999e+06</td>\n",
       "      <td>2017.000000</td>\n",
       "      <td>32767.000000</td>\n",
       "      <td>999.000000</td>\n",
       "      <td>6.000000</td>\n",
       "      <td>74.000000</td>\n",
       "      <td>13.000000</td>\n",
       "    </tr>\n",
       "  </tbody>\n",
       "</table>\n",
       "</div>"
      ],
      "text/plain": [
       "                  id       mileage  manufacture_year  engine_displacement  \\\n",
       "count  607868.000000  6.078680e+05     607868.000000        607868.000000   \n",
       "mean   303933.500000  1.042676e+05       2008.692004          1922.358486   \n",
       "std    175476.521053  1.000725e+05          6.410434           741.868944   \n",
       "min         0.000000  0.000000e+00          0.000000            10.000000   \n",
       "25%    151966.750000  2.830000e+04       2005.000000          1461.000000   \n",
       "50%    303933.500000  9.500000e+04       2010.000000          1896.000000   \n",
       "75%    455900.250000  1.590000e+05       2013.000000          2000.000000   \n",
       "max    607867.000000  9.999999e+06       2017.000000         32767.000000   \n",
       "\n",
       "        engine_power     door_count     seat_count      price_eur  \n",
       "count  607868.000000  607868.000000  607868.000000  607868.000000  \n",
       "mean      105.041129       3.927341       4.888915       4.959443  \n",
       "std        52.542237       0.923465       0.841588       3.063327  \n",
       "min        10.000000       1.000000       1.000000       1.000000  \n",
       "25%        74.000000       4.000000       5.000000       2.000000  \n",
       "50%        95.000000       4.000000       5.000000       5.000000  \n",
       "75%       125.000000       4.000000       5.000000       7.000000  \n",
       "max       999.000000       6.000000      74.000000      13.000000  "
      ]
     },
     "execution_count": 6,
     "metadata": {},
     "output_type": "execute_result"
    }
   ],
   "source": [
    "cars.describe()"
   ]
  },
  {
   "cell_type": "markdown",
   "metadata": {},
   "source": [
    "We can see that there are cars from 2017 in the dataset, however the year of the dataset is 2015, we will have to fix that by setting those values to the mean value.  Also we see that the lowest manufacture year is 0, which is not possible as the oldest vehicle is from 1885. There also is an anomaly with engine displacement, however a quick google search shows that the biggest engine in fact was 46.9 liters, we'll let it slide. However the smallest engines are definetely a mistake, smallest engine ever fitted to a vehicle is 49cc not 10cc, therefore we will apply the mean value to it."
   ]
  },
  {
   "cell_type": "markdown",
   "metadata": {},
   "source": [
    "## Cleanup data"
   ]
  },
  {
   "cell_type": "code",
   "execution_count": 7,
   "metadata": {},
   "outputs": [
    {
     "data": {
      "text/plain": [
       "2008"
      ]
     },
     "execution_count": 7,
     "metadata": {},
     "output_type": "execute_result"
    }
   ],
   "source": [
    "mean_manufacture_year = int(cars.describe()['manufacture_year']['mean'])\n",
    "mean_manufacture_year"
   ]
  },
  {
   "cell_type": "code",
   "execution_count": 8,
   "metadata": {},
   "outputs": [
    {
     "data": {
      "text/plain": [
       "1922"
      ]
     },
     "execution_count": 8,
     "metadata": {},
     "output_type": "execute_result"
    }
   ],
   "source": [
    "mean_engine_displacement = int(cars.describe()['engine_displacement']['mean'])\n",
    "mean_engine_displacement"
   ]
  },
  {
   "cell_type": "markdown",
   "metadata": {},
   "source": [
    "Let's adjust those wrong values"
   ]
  },
  {
   "cell_type": "code",
   "execution_count": 9,
   "metadata": {},
   "outputs": [],
   "source": [
    "cars.loc[cars['manufacture_year'] < 1885, 'manufacture_year'] = mean_manufacture_year"
   ]
  },
  {
   "cell_type": "code",
   "execution_count": 10,
   "metadata": {},
   "outputs": [],
   "source": [
    "cars.loc[cars['engine_displacement'] < 49, 'engine_displacement'] = mean_engine_displacement"
   ]
  },
  {
   "cell_type": "markdown",
   "metadata": {},
   "source": [
    "Let's check the value descriptor again."
   ]
  },
  {
   "cell_type": "code",
   "execution_count": 11,
   "metadata": {},
   "outputs": [
    {
     "data": {
      "text/html": [
       "<div>\n",
       "<style scoped>\n",
       "    .dataframe tbody tr th:only-of-type {\n",
       "        vertical-align: middle;\n",
       "    }\n",
       "\n",
       "    .dataframe tbody tr th {\n",
       "        vertical-align: top;\n",
       "    }\n",
       "\n",
       "    .dataframe thead th {\n",
       "        text-align: right;\n",
       "    }\n",
       "</style>\n",
       "<table border=\"1\" class=\"dataframe\">\n",
       "  <thead>\n",
       "    <tr style=\"text-align: right;\">\n",
       "      <th></th>\n",
       "      <th>id</th>\n",
       "      <th>mileage</th>\n",
       "      <th>manufacture_year</th>\n",
       "      <th>engine_displacement</th>\n",
       "      <th>engine_power</th>\n",
       "      <th>door_count</th>\n",
       "      <th>seat_count</th>\n",
       "      <th>price_eur</th>\n",
       "    </tr>\n",
       "  </thead>\n",
       "  <tbody>\n",
       "    <tr>\n",
       "      <th>count</th>\n",
       "      <td>607868.000000</td>\n",
       "      <td>6.078680e+05</td>\n",
       "      <td>607868.000000</td>\n",
       "      <td>607868.000000</td>\n",
       "      <td>607868.000000</td>\n",
       "      <td>607868.000000</td>\n",
       "      <td>607868.000000</td>\n",
       "      <td>607868.000000</td>\n",
       "    </tr>\n",
       "    <tr>\n",
       "      <th>mean</th>\n",
       "      <td>303933.500000</td>\n",
       "      <td>1.042676e+05</td>\n",
       "      <td>2008.695307</td>\n",
       "      <td>1922.411714</td>\n",
       "      <td>105.041129</td>\n",
       "      <td>3.927341</td>\n",
       "      <td>4.888915</td>\n",
       "      <td>4.959443</td>\n",
       "    </tr>\n",
       "    <tr>\n",
       "      <th>std</th>\n",
       "      <td>175476.521053</td>\n",
       "      <td>1.000725e+05</td>\n",
       "      <td>5.869919</td>\n",
       "      <td>741.800631</td>\n",
       "      <td>52.542237</td>\n",
       "      <td>0.923465</td>\n",
       "      <td>0.841588</td>\n",
       "      <td>3.063327</td>\n",
       "    </tr>\n",
       "    <tr>\n",
       "      <th>min</th>\n",
       "      <td>0.000000</td>\n",
       "      <td>0.000000e+00</td>\n",
       "      <td>1900.000000</td>\n",
       "      <td>54.000000</td>\n",
       "      <td>10.000000</td>\n",
       "      <td>1.000000</td>\n",
       "      <td>1.000000</td>\n",
       "      <td>1.000000</td>\n",
       "    </tr>\n",
       "    <tr>\n",
       "      <th>25%</th>\n",
       "      <td>151966.750000</td>\n",
       "      <td>2.830000e+04</td>\n",
       "      <td>2005.000000</td>\n",
       "      <td>1461.000000</td>\n",
       "      <td>74.000000</td>\n",
       "      <td>4.000000</td>\n",
       "      <td>5.000000</td>\n",
       "      <td>2.000000</td>\n",
       "    </tr>\n",
       "    <tr>\n",
       "      <th>50%</th>\n",
       "      <td>303933.500000</td>\n",
       "      <td>9.500000e+04</td>\n",
       "      <td>2010.000000</td>\n",
       "      <td>1896.000000</td>\n",
       "      <td>95.000000</td>\n",
       "      <td>4.000000</td>\n",
       "      <td>5.000000</td>\n",
       "      <td>5.000000</td>\n",
       "    </tr>\n",
       "    <tr>\n",
       "      <th>75%</th>\n",
       "      <td>455900.250000</td>\n",
       "      <td>1.590000e+05</td>\n",
       "      <td>2013.000000</td>\n",
       "      <td>2000.000000</td>\n",
       "      <td>125.000000</td>\n",
       "      <td>4.000000</td>\n",
       "      <td>5.000000</td>\n",
       "      <td>7.000000</td>\n",
       "    </tr>\n",
       "    <tr>\n",
       "      <th>max</th>\n",
       "      <td>607867.000000</td>\n",
       "      <td>9.999999e+06</td>\n",
       "      <td>2017.000000</td>\n",
       "      <td>32767.000000</td>\n",
       "      <td>999.000000</td>\n",
       "      <td>6.000000</td>\n",
       "      <td>74.000000</td>\n",
       "      <td>13.000000</td>\n",
       "    </tr>\n",
       "  </tbody>\n",
       "</table>\n",
       "</div>"
      ],
      "text/plain": [
       "                  id       mileage  manufacture_year  engine_displacement  \\\n",
       "count  607868.000000  6.078680e+05     607868.000000        607868.000000   \n",
       "mean   303933.500000  1.042676e+05       2008.695307          1922.411714   \n",
       "std    175476.521053  1.000725e+05          5.869919           741.800631   \n",
       "min         0.000000  0.000000e+00       1900.000000            54.000000   \n",
       "25%    151966.750000  2.830000e+04       2005.000000          1461.000000   \n",
       "50%    303933.500000  9.500000e+04       2010.000000          1896.000000   \n",
       "75%    455900.250000  1.590000e+05       2013.000000          2000.000000   \n",
       "max    607867.000000  9.999999e+06       2017.000000         32767.000000   \n",
       "\n",
       "        engine_power     door_count     seat_count      price_eur  \n",
       "count  607868.000000  607868.000000  607868.000000  607868.000000  \n",
       "mean      105.041129       3.927341       4.888915       4.959443  \n",
       "std        52.542237       0.923465       0.841588       3.063327  \n",
       "min        10.000000       1.000000       1.000000       1.000000  \n",
       "25%        74.000000       4.000000       5.000000       2.000000  \n",
       "50%        95.000000       4.000000       5.000000       5.000000  \n",
       "75%       125.000000       4.000000       5.000000       7.000000  \n",
       "max       999.000000       6.000000      74.000000      13.000000  "
      ]
     },
     "execution_count": 11,
     "metadata": {},
     "output_type": "execute_result"
    }
   ],
   "source": [
    "cars.describe()"
   ]
  },
  {
   "cell_type": "markdown",
   "metadata": {},
   "source": [
    "Much nicer! Now we have more realistic data on our hands."
   ]
  },
  {
   "cell_type": "markdown",
   "metadata": {},
   "source": [
    "## Visualize data"
   ]
  },
  {
   "cell_type": "code",
   "execution_count": 12,
   "metadata": {},
   "outputs": [
    {
     "data": {
      "text/plain": [
       "<matplotlib.axes._subplots.AxesSubplot at 0x23519e3c550>"
      ]
     },
     "execution_count": 12,
     "metadata": {},
     "output_type": "execute_result"
    },
    {
     "data": {
      "image/png": "[encoded data removed]",
      "text/plain": [
       "<Figure size 842.4x595.44 with 1 Axes>"
      ]
     },
     "metadata": {},
     "output_type": "display_data"
    }
   ],
   "source": [
    "sns.set(style='whitegrid', color_codes=True)\n",
    "sns.set(rc={'figure.figsize': (11.7, 8.27)})\n",
    "sns.countplot('price_eur', data=cars, hue='transmission')"
   ]
  },
  {
   "cell_type": "markdown",
   "metadata": {},
   "source": [
    "Now we can see that the more expensive a car is it is more likely to have an automatic gearbox. Let's check the same with fuel"
   ]
  },
  {
   "cell_type": "code",
   "execution_count": 13,
   "metadata": {},
   "outputs": [
    {
     "data": {
      "text/plain": [
       "<matplotlib.axes._subplots.AxesSubplot at 0x2351b4258d0>"
      ]
     },
     "execution_count": 13,
     "metadata": {},
     "output_type": "execute_result"
    },
    {
     "data": {
      "image/png": "[encoded data removed]",
      "text/plain": [
       "<Figure size 842.4x595.44 with 1 Axes>"
      ]
     },
     "metadata": {},
     "output_type": "display_data"
    }
   ],
   "source": [
    "sns.countplot('price_eur', data=cars, hue='fuel_type')"
   ]
  },
  {
   "cell_type": "markdown",
   "metadata": {},
   "source": [
    "Here we can see that diesel takes over the majority of vehicles in the mid-high price range and gasoline is in the cheaper scope. However, in the high-end gasoline pick up the majority as there is where all the fancy sports and luxury cars are."
   ]
  },
  {
   "cell_type": "markdown",
   "metadata": {},
   "source": [
    "## Preparing data"
   ]
  },
  {
   "cell_type": "markdown",
   "metadata": {},
   "source": [
    "Machine learning algorithms use numeric values therefore we need to somehow encode the data that is represented in object format. I will use sklearn module LabelEncoder from preprocessing library. \n",
    "\n",
    "What LabelEncoder does it takes the unique values of each column and transform it to numeric representations (0 to whatever). The encoding happens alphabetically.\n",
    "\n",
    "First let's see the unique values of each column."
   ]
  },
  {
   "cell_type": "code",
   "execution_count": 14,
   "metadata": {},
   "outputs": [
    {
     "name": "stdout",
     "output_type": "stream",
     "text": [
      "Maker:  ['ford' 'skoda' 'bmw' 'suzuki' 'nissan' 'opel' 'citroen' 'seat' 'kia'\n",
      " 'audi' 'rover' 'toyota' 'hyundai' 'fiat' 'volvo' 'chevrolet' 'mazda'\n",
      " 'jeep' 'mercedes-benz' 'subaru' 'lancia' 'smart' 'chrysler' 'honda'\n",
      " 'dodge' 'porsche' 'mitsubishi' 'mini' 'hummer' 'jaguar' 'lexus' 'bentley'\n",
      " 'maserati' 'lamborghini' 'isuzu' 'lotus' 'tesla' 'volkswagen' 'renault'\n",
      " 'peugeot' 'alfa-romeo' 'infinity' 'rolls-royce' 'aston-martin'\n",
      " 'land-rover' 'dacia']\n",
      "Transmission ['man' 'auto']\n",
      "fuel_type ['diesel' 'gasoline' 'lpg' 'cng' 'electric']\n"
     ]
    }
   ],
   "source": [
    "print('Maker: ', cars['maker'].unique())\n",
    "print('Transmission', cars['transmission'].unique())\n",
    "print('fuel_type', cars['fuel_type'].unique())"
   ]
  },
  {
   "cell_type": "code",
   "execution_count": 15,
   "metadata": {},
   "outputs": [
    {
     "data": {
      "text/plain": [
       "46"
      ]
     },
     "execution_count": 15,
     "metadata": {},
     "output_type": "execute_result"
    }
   ],
   "source": [
    "len(cars['maker'].unique())"
   ]
  },
  {
   "cell_type": "markdown",
   "metadata": {},
   "source": [
    "We have appearently have 46 different car manufacturers in our dataset.\n",
    "\n",
    "Let's encode the data but before let's save that data for future use"
   ]
  },
  {
   "cell_type": "code",
   "execution_count": 16,
   "metadata": {},
   "outputs": [],
   "source": [
    "makers = cars['maker'].unique()\n",
    "transmissions = cars['transmission'].unique()\n",
    "fuel_types = cars['fuel_type'].unique()"
   ]
  },
  {
   "cell_type": "code",
   "execution_count": 17,
   "metadata": {},
   "outputs": [],
   "source": [
    "label_encoder = preprocessing.LabelEncoder()"
   ]
  },
  {
   "cell_type": "code",
   "execution_count": 18,
   "metadata": {},
   "outputs": [],
   "source": [
    "cars['maker'] = label_encoder.fit_transform(cars['maker'])\n",
    "cars['transmission'] = label_encoder.fit_transform(cars['transmission'])\n",
    "cars['fuel_type'] = label_encoder.fit_transform(cars['fuel_type'])"
   ]
  },
  {
   "cell_type": "code",
   "execution_count": 19,
   "metadata": {},
   "outputs": [],
   "source": [
    "makers_numeric = cars['maker'].unique()\n",
    "transmissions_numeric = cars['transmission'].unique()\n",
    "fuel_types_numeric = cars['fuel_type'].unique()"
   ]
  },
  {
   "cell_type": "markdown",
   "metadata": {},
   "source": [
    "Let's see what the unique values look now"
   ]
  },
  {
   "cell_type": "code",
   "execution_count": 20,
   "metadata": {
    "scrolled": true
   },
   "outputs": [
    {
     "name": "stdout",
     "output_type": "stream",
     "text": [
      "Maker:  [11 38  4 41 30 31  7 37 19  2 36 43 14 10 45  5 26 18 27 40 21 39  6 12\n",
      "  9 33 29 28 13 17 23  3 25 20 16 24 42 44 34 32  0 15 35  1 22  8]\n",
      "Transmission [1 0]\n",
      "fuel_type [1 3 4 0 2]\n"
     ]
    }
   ],
   "source": [
    "print('Maker: ', cars['maker'].unique())\n",
    "print('Transmission', cars['transmission'].unique())\n",
    "print('fuel_type', cars['fuel_type'].unique())"
   ]
  },
  {
   "cell_type": "markdown",
   "metadata": {},
   "source": [
    "## Data splitting\n",
    "\n",
    "We need to seperate data into training set and testing, however since this data will never reflect the complete true as some of the car ads are created for fun with random data we will split 85% for training and only 15% for testing instead of usual 80/20 or 70/30"
   ]
  },
  {
   "cell_type": "markdown",
   "metadata": {},
   "source": [
    "Let's first split data into target values and training on which we will do the guessing. We also need to remove id field as it does not provide any useful information and is only for indexing"
   ]
  },
  {
   "cell_type": "code",
   "execution_count": 21,
   "metadata": {},
   "outputs": [
    {
     "data": {
      "text/html": [
       "<div>\n",
       "<style scoped>\n",
       "    .dataframe tbody tr th:only-of-type {\n",
       "        vertical-align: middle;\n",
       "    }\n",
       "\n",
       "    .dataframe tbody tr th {\n",
       "        vertical-align: top;\n",
       "    }\n",
       "\n",
       "    .dataframe thead th {\n",
       "        text-align: right;\n",
       "    }\n",
       "</style>\n",
       "<table border=\"1\" class=\"dataframe\">\n",
       "  <thead>\n",
       "    <tr style=\"text-align: right;\">\n",
       "      <th></th>\n",
       "      <th>maker</th>\n",
       "      <th>mileage</th>\n",
       "      <th>manufacture_year</th>\n",
       "      <th>engine_displacement</th>\n",
       "      <th>engine_power</th>\n",
       "      <th>transmission</th>\n",
       "      <th>door_count</th>\n",
       "      <th>seat_count</th>\n",
       "      <th>fuel_type</th>\n",
       "    </tr>\n",
       "  </thead>\n",
       "  <tbody>\n",
       "    <tr>\n",
       "      <th>0</th>\n",
       "      <td>11</td>\n",
       "      <td>151000</td>\n",
       "      <td>2011</td>\n",
       "      <td>2000</td>\n",
       "      <td>103</td>\n",
       "      <td>1</td>\n",
       "      <td>5</td>\n",
       "      <td>7</td>\n",
       "      <td>1</td>\n",
       "    </tr>\n",
       "    <tr>\n",
       "      <th>1</th>\n",
       "      <td>38</td>\n",
       "      <td>143476</td>\n",
       "      <td>2012</td>\n",
       "      <td>2000</td>\n",
       "      <td>81</td>\n",
       "      <td>1</td>\n",
       "      <td>5</td>\n",
       "      <td>5</td>\n",
       "      <td>1</td>\n",
       "    </tr>\n",
       "    <tr>\n",
       "      <th>2</th>\n",
       "      <td>4</td>\n",
       "      <td>97676</td>\n",
       "      <td>2010</td>\n",
       "      <td>1995</td>\n",
       "      <td>85</td>\n",
       "      <td>1</td>\n",
       "      <td>5</td>\n",
       "      <td>5</td>\n",
       "      <td>1</td>\n",
       "    </tr>\n",
       "    <tr>\n",
       "      <th>3</th>\n",
       "      <td>38</td>\n",
       "      <td>111970</td>\n",
       "      <td>2004</td>\n",
       "      <td>1200</td>\n",
       "      <td>47</td>\n",
       "      <td>1</td>\n",
       "      <td>5</td>\n",
       "      <td>5</td>\n",
       "      <td>3</td>\n",
       "    </tr>\n",
       "    <tr>\n",
       "      <th>4</th>\n",
       "      <td>38</td>\n",
       "      <td>128886</td>\n",
       "      <td>2004</td>\n",
       "      <td>1200</td>\n",
       "      <td>47</td>\n",
       "      <td>1</td>\n",
       "      <td>5</td>\n",
       "      <td>5</td>\n",
       "      <td>3</td>\n",
       "    </tr>\n",
       "  </tbody>\n",
       "</table>\n",
       "</div>"
      ],
      "text/plain": [
       "   maker  mileage  manufacture_year  engine_displacement  engine_power  \\\n",
       "0     11   151000              2011                 2000           103   \n",
       "1     38   143476              2012                 2000            81   \n",
       "2      4    97676              2010                 1995            85   \n",
       "3     38   111970              2004                 1200            47   \n",
       "4     38   128886              2004                 1200            47   \n",
       "\n",
       "   transmission  door_count  seat_count  fuel_type  \n",
       "0             1           5           7          1  \n",
       "1             1           5           5          1  \n",
       "2             1           5           5          1  \n",
       "3             1           5           5          3  \n",
       "4             1           5           5          3  "
      ]
     },
     "execution_count": 21,
     "metadata": {},
     "output_type": "execute_result"
    }
   ],
   "source": [
    "cols = [col for col in cars.columns if col not in ['id', 'price_eur']]\n",
    "\n",
    "data = cars[cols]\n",
    "target = cars['price_eur']\n",
    "data.head()"
   ]
  },
  {
   "cell_type": "code",
   "execution_count": 22,
   "metadata": {},
   "outputs": [
    {
     "data": {
      "text/plain": [
       "0    6\n",
       "1    5\n",
       "2    6\n",
       "3    2\n",
       "4    2\n",
       "Name: price_eur, dtype: int64"
      ]
     },
     "execution_count": 22,
     "metadata": {},
     "output_type": "execute_result"
    }
   ],
   "source": [
    "target.head()"
   ]
  },
  {
   "cell_type": "code",
   "execution_count": 23,
   "metadata": {},
   "outputs": [
    {
     "data": {
      "text/plain": [
       "(607868, 9)"
      ]
     },
     "execution_count": 23,
     "metadata": {},
     "output_type": "execute_result"
    }
   ],
   "source": [
    "data.shape"
   ]
  },
  {
   "cell_type": "code",
   "execution_count": 24,
   "metadata": {},
   "outputs": [
    {
     "data": {
      "text/plain": [
       "(607868,)"
      ]
     },
     "execution_count": 24,
     "metadata": {},
     "output_type": "execute_result"
    }
   ],
   "source": [
    "target.shape"
   ]
  },
  {
   "cell_type": "markdown",
   "metadata": {},
   "source": [
    "The row count on both data and target matches! We successfuly split did the first split."
   ]
  },
  {
   "cell_type": "markdown",
   "metadata": {},
   "source": [
    "Time to split the data into training and test sets. For that I wil use the handy dandy too of train_test_split that does all the magic for us and then I am going to unpack it to multiple variables"
   ]
  },
  {
   "cell_type": "code",
   "execution_count": 25,
   "metadata": {},
   "outputs": [],
   "source": [
    "data_train, data_test, target_train, target_test  = train_test_split(data, target, test_size=0.15, random_state=10)"
   ]
  },
  {
   "cell_type": "code",
   "execution_count": 26,
   "metadata": {},
   "outputs": [
    {
     "data": {
      "text/plain": [
       "(516687, 9)"
      ]
     },
     "execution_count": 26,
     "metadata": {},
     "output_type": "execute_result"
    }
   ],
   "source": [
    "data_train.shape"
   ]
  },
  {
   "cell_type": "code",
   "execution_count": 27,
   "metadata": {},
   "outputs": [
    {
     "data": {
      "text/plain": [
       "(91181, 9)"
      ]
     },
     "execution_count": 27,
     "metadata": {},
     "output_type": "execute_result"
    }
   ],
   "source": [
    "data_test.shape"
   ]
  },
  {
   "cell_type": "code",
   "execution_count": 28,
   "metadata": {},
   "outputs": [
    {
     "data": {
      "text/plain": [
       "(516687,)"
      ]
     },
     "execution_count": 28,
     "metadata": {},
     "output_type": "execute_result"
    }
   ],
   "source": [
    "target_train.shape"
   ]
  },
  {
   "cell_type": "code",
   "execution_count": 29,
   "metadata": {},
   "outputs": [
    {
     "data": {
      "text/plain": [
       "(91181,)"
      ]
     },
     "execution_count": 29,
     "metadata": {},
     "output_type": "execute_result"
    }
   ],
   "source": [
    "target_test.shape"
   ]
  },
  {
   "cell_type": "markdown",
   "metadata": {},
   "source": [
    "## Building the model"
   ]
  },
  {
   "cell_type": "markdown",
   "metadata": {},
   "source": [
    "### Naive-Bayes"
   ]
  },
  {
   "cell_type": "code",
   "execution_count": 30,
   "metadata": {},
   "outputs": [],
   "source": [
    "gnb = GaussianNB()\n",
    "\n",
    "naive_bayes_model = gnb.fit(data_train, target_train)"
   ]
  },
  {
   "cell_type": "code",
   "execution_count": 31,
   "metadata": {},
   "outputs": [],
   "source": [
    "prediction = naive_bayes_model.predict(data_test)"
   ]
  },
  {
   "cell_type": "code",
   "execution_count": 32,
   "metadata": {},
   "outputs": [
    {
     "name": "stdout",
     "output_type": "stream",
     "text": [
      "Naive-Bayes accuracy:  0.3751000756736601\n"
     ]
    }
   ],
   "source": [
    "print('Naive-Bayes accuracy: ', accuracy_score(target_test, prediction, normalize=True))"
   ]
  },
  {
   "cell_type": "markdown",
   "metadata": {},
   "source": [
    "We got a really low accuracy of barely 37.5%, not good, but the again the car market is always flawed with different vehicles and we would need 10x more data to get a precision of 80%+"
   ]
  },
  {
   "cell_type": "markdown",
   "metadata": {},
   "source": [
    "### K-Neighbors"
   ]
  },
  {
   "cell_type": "code",
   "execution_count": 33,
   "metadata": {},
   "outputs": [
    {
     "data": {
      "text/plain": [
       "KNeighborsClassifier(algorithm='auto', leaf_size=30, metric='minkowski',\n",
       "                     metric_params=None, n_jobs=None, n_neighbors=3, p=2,\n",
       "                     weights='uniform')"
      ]
     },
     "execution_count": 33,
     "metadata": {},
     "output_type": "execute_result"
    }
   ],
   "source": [
    "neigh_model = KNeighborsClassifier(n_neighbors=3)\n",
    "\n",
    "neigh_model.fit(data_train, target_train)"
   ]
  },
  {
   "cell_type": "code",
   "execution_count": 34,
   "metadata": {},
   "outputs": [],
   "source": [
    "prediction = neigh_model.predict(data_test)"
   ]
  },
  {
   "cell_type": "code",
   "execution_count": 35,
   "metadata": {},
   "outputs": [
    {
     "name": "stdout",
     "output_type": "stream",
     "text": [
      "KNeigbors accuracy:  0.46599620534979874\n"
     ]
    }
   ],
   "source": [
    "print('KNeigbors accuracy: ', accuracy_score(target_test, prediction, normalize = True))"
   ]
  },
  {
   "cell_type": "markdown",
   "metadata": {},
   "source": [
    "K-Neighbor seems to be better fitting the data we have and gets an accuracy of 46.5%, no ideal but much better the Naive-Bayes.\n",
    "\n",
    "Therefore we will go with that, let's save it to a file so that we could use it further in our webapp. To do that I will use pickle module.\n",
    "\n",
    "But before saving first create a new folder called models."
   ]
  },
  {
   "cell_type": "code",
   "execution_count": 36,
   "metadata": {},
   "outputs": [],
   "source": [
    "import os\n",
    "os.mkdir('models')"
   ]
  },
  {
   "cell_type": "code",
   "execution_count": 37,
   "metadata": {},
   "outputs": [],
   "source": [
    "with open('./models/CarPriceCategoryPredictor.pkl', 'wb') as f:\n",
    "    pickle.dump(neigh_model, f)"
   ]
  },
  {
   "cell_type": "markdown",
   "metadata": {},
   "source": [
    "# Webapp\n",
    "\n",
    "Now we will create a webapp to implement the trained model before. We will load it from file system using sklearn tool called joblib that has a method load just to do that. We don't need to open any streams the method does it all itself and then returns the model we saved."
   ]
  },
  {
   "cell_type": "markdown",
   "metadata": {},
   "source": [
    "First of all it is required to have flask install"
   ]
  },
  {
   "cell_type": "code",
   "execution_count": 38,
   "metadata": {},
   "outputs": [
    {
     "name": "stdout",
     "output_type": "stream",
     "text": [
      "Requirement already satisfied: flask in d:\\applications\\anaconda\\lib\\site-packages (0.12.2)\n",
      "Requirement already satisfied: Jinja2>=2.4 in d:\\applications\\anaconda\\lib\\site-packages (from flask) (2.10)\n",
      "Requirement already satisfied: Werkzeug>=0.7 in d:\\applications\\anaconda\\lib\\site-packages (from flask) (0.14.1)\n",
      "Requirement already satisfied: itsdangerous>=0.21 in d:\\applications\\anaconda\\lib\\site-packages (from flask) (0.24)\n",
      "Requirement already satisfied: click>=2.0 in d:\\applications\\anaconda\\lib\\site-packages (from flask) (6.7)\n",
      "Requirement already satisfied: MarkupSafe>=0.23 in d:\\applications\\anaconda\\lib\\site-packages (from Jinja2>=2.4->flask) (1.0)\n"
     ]
    }
   ],
   "source": [
    "!pip install flask"
   ]
  },
  {
   "cell_type": "markdown",
   "metadata": {},
   "source": [
    "Let's create a webapp file that will start the server"
   ]
  },
  {
   "cell_type": "code",
   "execution_count": 39,
   "metadata": {},
   "outputs": [
    {
     "name": "stdout",
     "output_type": "stream",
     "text": [
      "Writing webapp.py\n"
     ]
    }
   ],
   "source": [
    "%%writefile webapp.py\n",
    "\n",
    "from flask import Flask, request, render_template, Response, jsonify\n",
    "from sklearn.externals import joblib\n",
    "\n",
    "app = Flask(__name__, template_folder='./templates')\n",
    "\n",
    "model = joblib.load('./models/CarPriceCategoryPredictor.pkl')\n",
    "\n",
    "def class_to_range(price_class):\n",
    "    if price_class == 1:\n",
    "        return {'max': 2000}\n",
    "    elif price_class == 2:\n",
    "        return {'min': 2000, 'max': 3000}\n",
    "    elif price_class == 3:\n",
    "        return {'min': 3000, 'max': 4000}\n",
    "    elif price_class == 4:\n",
    "        return {'min': 4000, 'max': 5000}\n",
    "    elif price_class == 5:\n",
    "        return {'min': 5000, 'max': 10000}\n",
    "    elif price_class == 6:\n",
    "        return {'min': 10000, 'max': 15000}\n",
    "    elif price_class == 7:\n",
    "        return {'min': 15000, 'max': 20000}\n",
    "    elif price_class == 8:\n",
    "        return {'min': 20000, 'max': 25000}\n",
    "    elif price_class == 9:\n",
    "        return {'min': 25000, 'max': 30000}\n",
    "    elif price_class == 10:\n",
    "        return {'min': 30000, 'max': 40000}\n",
    "    elif price_class == 11:\n",
    "        return {'min': 40000, 'max': 50000}\n",
    "    else:\n",
    "        return {'min': 50000}\n",
    "\n",
    "@app.route('/', methods=['GET'])\n",
    "def index():\n",
    "    return render_template('index.html')\n",
    "\n",
    "@app.route('/predict', methods=[\"POST\"])\n",
    "def predict():\n",
    "    data = dict(request.form)\n",
    "\n",
    "    X = [[\n",
    "        int(data['maker']), \n",
    "        int(data['mileage']),\n",
    "        int(data['year']),\n",
    "        int(data['engine_displacement']),\n",
    "        int(data['engine_power']),\n",
    "        int(data['transmission']),\n",
    "        int(data['door_count']),\n",
    "        int(data['seat_count']),\n",
    "        int(data['fuel_type'])\n",
    "        ]]\n",
    "\n",
    "    predicted = model.predict(X)\n",
    "    result = class_to_range(predicted[0])\n",
    "    return jsonify(result)\n",
    "\n",
    "if __name__ == \"__main__\":\n",
    "    app.run(debug=True)"
   ]
  },
  {
   "cell_type": "markdown",
   "metadata": {},
   "source": [
    "But now we don't have any views, let's do that. First of all we need to create a new folder to store them, we call the template folder 'templates'"
   ]
  },
  {
   "cell_type": "code",
   "execution_count": 40,
   "metadata": {},
   "outputs": [],
   "source": [
    "import os\n",
    "os.mkdir('templates')"
   ]
  },
  {
   "cell_type": "markdown",
   "metadata": {},
   "source": [
    "Now that we have our temlates folder let's add the view. We will have two files, base.html and index.html to seperate the setup and the more logic like blocks"
   ]
  },
  {
   "cell_type": "code",
   "execution_count": 41,
   "metadata": {},
   "outputs": [
    {
     "name": "stdout",
     "output_type": "stream",
     "text": [
      "Writing templates/base.html\n"
     ]
    }
   ],
   "source": [
    "%%writefile templates/base.html\n",
    "\n",
    "<!DOCTYPE html>\n",
    "<head>\n",
    "    <meta charset=\"utf-8\">\n",
    "    <meta name=\"viewport\" content=\"width=device-width, initial-scale=1, shrink-to-fit=no\">\n",
    "\n",
    "    <title>{% block title %}{% endblock %}</title>\n",
    "\n",
    "    <link rel=\"stylesheet\" href=\"https://stackpath.bootstrapcdn.com/bootstrap/4.3.1/css/bootstrap.min.css\" integrity=\"sha384-ggOyR0iXCbMQv3Xipma34MD+dH/1fQ784/j6cY/iJTQUOhcWr7x9JvoRxT2MZw1T\" crossorigin=\"anonymous\">\n",
    "</head>\n",
    "<body>\n",
    "    <div class=\"container\">\n",
    "        {% block content %}\n",
    "        {% endblock %}\n",
    "    </div>\n",
    "\n",
    "<script src=\"https://code.jquery.com/jquery-3.4.1.js\" integrity=\"sha256-WpOohJOqMqqyKL9FccASB9O0KwACQJpFTUBLTYOVvVU=\" crossorigin=\"anonymous\"></script>\n",
    "<script src=\"https://cdnjs.cloudflare.com/ajax/libs/popper.js/1.14.7/umd/popper.min.js\" integrity=\"sha384-UO2eT0CpHqdSJQ6hJty5KVphtPhzWj9WO1clHTMGa3JDZwrnQq4sF86dIHNDz0W1\" crossorigin=\"anonymous\"></script>\n",
    "<script src=\"https://stackpath.bootstrapcdn.com/bootstrap/4.3.1/js/bootstrap.min.js\" integrity=\"sha384-JjSmVgyd0p3pXB1rRibZUAYoIIy6OrQ6VrjIEaFf/nJGzIxFDsf4x0xIM+B07jRM\" crossorigin=\"anonymous\"></script>\n",
    "\n",
    "{% block scripts %}\n",
    "\n",
    "{% endblock %}\n",
    "</body>"
   ]
  },
  {
   "cell_type": "code",
   "execution_count": 42,
   "metadata": {},
   "outputs": [
    {
     "name": "stdout",
     "output_type": "stream",
     "text": [
      "Writing templates/index.html\n"
     ]
    }
   ],
   "source": [
    "%%writefile templates/index.html\n",
    "\n",
    "{% extends \"base.html\" %}\n",
    "\n",
    "{% block title %} Price predictor {% endblock %}\n",
    "\n",
    "{% block content %}\n",
    "<form>\n",
    "    <div class=\"form-row\">\n",
    "        <div class=\"form-group col-md-12\">\n",
    "            <label for=\"maker\">Manufacturer</label>\n",
    "            <select class=\"custom-select\" id=\"maker\" name=\"maker\">\n",
    "                <option value=\"11\">Ford</option>\n",
    "                <option value=\"38\">Skoda</option>\n",
    "                <option value=\"4\">Bmw</option>\n",
    "                <option value=\"41\">Suzuki</option>\n",
    "                <option value=\"30\">Nissan</option>\n",
    "                <option value=\"31\">Opel</option>\n",
    "                <option value=\"7\">Citroen</option>\n",
    "                <option value=\"37\">Seat</option>\n",
    "                <option value=\"19\">Kia</option>\n",
    "                <option value=\"2\">Audi</option>\n",
    "                <option value=\"36\">Rover</option>\n",
    "                <option value=\"43\">Toyota</option>\n",
    "                <option value=\"14\">Hyundai</option>\n",
    "                <option value=\"10\">Fiat</option>\n",
    "                <option value=\"45\">Volvo</option>\n",
    "                <option value=\"5\">Chevrolet</option>\n",
    "                <option value=\"26\">Mazda</option>\n",
    "                <option value=\"18\">Jeep</option>\n",
    "                <option value=\"27\">Mercedes-benz</option>\n",
    "                <option value=\"40\">Subaru</option>\n",
    "                <option value=\"21\">Lancia</option>\n",
    "                <option value=\"39\">Smart</option>\n",
    "                <option value=\"6\">Chrysler</option>\n",
    "                <option value=\"12\">Honda</option>\n",
    "                <option value=\"9\">Dodge</option>\n",
    "                <option value=\"33\">Porsche</option>\n",
    "                <option value=\"29\">Mitsubishi</option>\n",
    "                <option value=\"28\">Mini</option>\n",
    "                <option value=\"13\">Hummer</option>\n",
    "                <option value=\"17\">Jaguar</option>\n",
    "                <option value=\"23\">Lexus</option>\n",
    "                <option value=\"3\">Bentley</option>\n",
    "                <option value=\"25\">Maserati</option>\n",
    "                <option value=\"20\">Lamborghini</option>\n",
    "                <option value=\"16\">Isuzu</option>\n",
    "                <option value=\"24\">Lotus</option>\n",
    "                <option value=\"42\">Tesla</option>\n",
    "                <option value=\"44\">Volkswagen</option>\n",
    "                <option value=\"34\">Renault</option>\n",
    "                <option value=\"32\">Peugeot</option>\n",
    "                <option value=\"0\">Alfa-romeo</option>\n",
    "                <option value=\"15\">Infinity</option>\n",
    "                <option value=\"35\">Rolls-royce</option>\n",
    "                <option value=\"1\">Aston-martin</option>\n",
    "                <option value=\"22\">Land-rover</option>\n",
    "                <option value=\"8\">Dacia</option>\n",
    "            </select>\n",
    "        </div>\n",
    "    </div>\n",
    "    <div class=\"form-row\">\n",
    "        <div class=\"form-group col-md-6\">\n",
    "            <label for=\"mileage\">Mileage</label>\n",
    "            <input type=\"number\" class=\"form-control\" min=\"0\" id=\"mileage\" name=\"mileage\" value=\"0\">\n",
    "        </div>\n",
    "        <div class=\"form-group col-md-6\">\n",
    "            <label for=\"manufacture_year\">Year</label>\n",
    "            <input type=\"number\" class=\"form-control\" min=\"1885\" max=\"2019\" id=\"manufacture_year\" name=\"manufacture_year\" value=\"2010\">\n",
    "        </div>\n",
    "    </div>\n",
    "    <div class=\"form-row\">\n",
    "        <div class=\"form-group col-md-6\">\n",
    "            <label for=\"transmission\">Gearbox</label>\n",
    "            <select class=\"custom-select\" id=\"transmission\" name=\"transmission\">\n",
    "                <option value=\"1\">Manual</option>                \n",
    "                <option value=\"0\">Automatic</option>\n",
    "            </select>\n",
    "        </div>\n",
    "        <div class=\"form-group col-md-6\">\n",
    "            <label for=\"fuel_type\">Fuel Type</label>\n",
    "            <select class=\"custom-select\" id=\"fuel_type\" name=\"fuel_type\">\n",
    "                <option value=\"3\">Petrol</option>                \n",
    "                <option value=\"1\">Diesel</option>\n",
    "                <option value=\"4\">LPG</option>\n",
    "                <option value=\"0\">CNG</option>\n",
    "                <option value=\"2\">Electric</option>\n",
    "            </select>\n",
    "        </div>\n",
    "    </div>\n",
    "    <div class=\"form-row\">\n",
    "        <div class=\"form-group col-md-6\">\n",
    "            <label for=\"engine_displacement\">Engine displacement (cm^3)</label>\n",
    "            <input type=\"number\" class=\"form-control\" id=\"engine_displacement\" name=\"engine_displacement\" min=\"500\" max=\"8000\" step=\"5\" value=\"2000\">\n",
    "        </div>\n",
    "        <div class=\"form-group col-md-6\">\n",
    "            <label for=\"engine_power\">Engine power (kw)</label>\n",
    "            <input type=\"number\" class=\"form-control\" id=\"engine_power\" name=\"engine_power\" min=\"1\" max=\"1000\" value=\"81\">\n",
    "        </div>\n",
    "    </div>\n",
    "    <div class=\"form-row\">\n",
    "        <div class=\"form-group col-md-6\">\n",
    "            <label for=\"door_count\">Door count</label>\n",
    "            <select class=\"custom-select\" id=\"door_count\" name=\"door_count\">\n",
    "                <option value=\"2\">2/3</option>                \n",
    "                <option value=\"4\">4</option>\n",
    "                <option value=\"5\">4/5</option>\n",
    "                <option value=\"6\">6</option>\n",
    "                <option value=\"1\">1</option>\n",
    "            </select>\n",
    "        </div>\n",
    "        <div class=\"form-group col-md-6\">\n",
    "            <label for=\"seat_count\">Seat count</label>\n",
    "            <input type=\"number\" class=\"form-control\" id=\"seat_count\" name=\"seat_count\" min=\"1\" max=\"100\" value=\"5\">\n",
    "        </div>\n",
    "    </div>\n",
    "    <button type=\"submit\" class=\"btn btn-success\">Submit</button>\n",
    "</form>\n",
    "\n",
    "<p class=\"lead\" id=\"car_value_p\" style=\"display: none\">Price should be <span id=\"car_value\"></span></p>\n",
    "{% endblock %}\n",
    "\n",
    "{% block scripts %}\n",
    "<script>\n",
    "    $('form').submit((e) => {\n",
    "        var vehicle = {};\n",
    "        vehicle.maker = $('#maker').val();\n",
    "        vehicle.mileage = $('#mileage').val();\n",
    "        vehicle.year = $('#manufacture_year').val();\n",
    "        vehicle.transmission = $('#transmission').val();\n",
    "        vehicle.fuel_type = $('#fuel_type').val();\n",
    "        vehicle.engine_displacement = $('#engine_displacement').val();\n",
    "        vehicle.fuel_type = $('#fuel_type').val();\n",
    "        vehicle.engine_power = $('#engine_power').val();\n",
    "        vehicle.door_count = $('#door_count').val();\n",
    "        vehicle.seat_count = $('#seat_count').val();\n",
    "\n",
    "        $.ajax({\n",
    "            url: '/predict',\n",
    "            method: 'POST',\n",
    "            data: vehicle,\n",
    "            success: (response) => {\n",
    "                console.log(response)\n",
    "                if(response.max) {\n",
    "                    if(response.min) {\n",
    "                        // there are both min and max values\n",
    "                        $('#car_value').html(`in between ${response.min} and ${response.max} euros.`);\n",
    "                    } else {\n",
    "                        // only max value\n",
    "                        $('#car_value').html(`below ${response.max} euros.`);\n",
    "                    }\n",
    "                } else {\n",
    "                    // only min value defined\n",
    "                    $('#car_value').html(`above ${response.min} euros.`);\n",
    "                }\n",
    "                $('#car_value_p').show()\n",
    "            },\n",
    "            error: (err) => {\n",
    "                alert('An error occured!');\n",
    "            }\n",
    "        });\n",
    "\n",
    "        return false;\n",
    "    });\n",
    "</script>\n",
    "{% endblock %}"
   ]
  },
  {
   "cell_type": "markdown",
   "metadata": {},
   "source": [
    "We left the action and method not set because we are using jQuery to parse it all and send it to the server via ajax therefore not requiring any reloads."
   ]
  },
  {
   "cell_type": "markdown",
   "metadata": {},
   "source": [
    "Let's start the application"
   ]
  },
  {
   "cell_type": "code",
   "execution_count": null,
   "metadata": {},
   "outputs": [],
   "source": [
    "!python webapp.py"
   ]
  },
  {
   "cell_type": "code",
   "execution_count": null,
   "metadata": {},
   "outputs": [],
   "source": []
  }
 ],
 "metadata": {
  "kernelspec": {
   "display_name": "Python 3",
   "language": "python",
   "name": "python3"
  },
  "language_info": {
   "codemirror_mode": {
    "name": "ipython",
    "version": 3
   },
   "file_extension": ".py",
   "mimetype": "text/x-python",
   "name": "python",
   "nbconvert_exporter": "python",
   "pygments_lexer": "ipython3",
   "version": "3.7.1"
  }
 },
 "nbformat": 4,
 "nbformat_minor": 2
}
